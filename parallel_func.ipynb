{
 "cells": [
  {
   "cell_type": "code",
   "execution_count": 1,
   "metadata": {},
   "outputs": [],
   "source": [
    "import ray"
   ]
  },
  {
   "cell_type": "code",
   "execution_count": 2,
   "metadata": {},
   "outputs": [
    {
     "name": "stderr",
     "output_type": "stream",
     "text": [
      "2020-05-09 22:20:08,166\tINFO resource_spec.py:216 -- Starting Ray with 3.47 GiB memory available for workers and up to 1.75 GiB for objects. You can adjust these settings with ray.init(memory=<bytes>, object_store_memory=<bytes>).\n",
      "2020-05-09 22:20:09,293\tINFO services.py:506 -- Failed to connect to the redis server, retrying.\n",
      "2020-05-09 22:20:10,421\tINFO services.py:506 -- Failed to connect to the redis server, retrying.\n"
     ]
    },
    {
     "data": {
      "text/plain": [
       "{'node_ip_address': '192.168.11.6',\n",
       " 'redis_address': '192.168.11.6:61179',\n",
       " 'object_store_address': '/tmp/ray/session_2020-05-09_22-20-08_152520_66383/sockets/plasma_store',\n",
       " 'raylet_socket_name': '/tmp/ray/session_2020-05-09_22-20-08_152520_66383/sockets/raylet',\n",
       " 'webui_url': None,\n",
       " 'session_dir': '/tmp/ray/session_2020-05-09_22-20-08_152520_66383'}"
      ]
     },
     "execution_count": 2,
     "metadata": {},
     "output_type": "execute_result"
    }
   ],
   "source": [
    "ray.init()"
   ]
  },
  {
   "cell_type": "code",
   "execution_count": 3,
   "metadata": {},
   "outputs": [
    {
     "data": {
      "text/plain": [
       "8"
      ]
     },
     "execution_count": 3,
     "metadata": {},
     "output_type": "execute_result"
    }
   ],
   "source": [
    "import os\n",
    "os.cpu_count()"
   ]
  },
  {
   "cell_type": "code",
   "execution_count": 12,
   "metadata": {},
   "outputs": [],
   "source": [
    "import time\n",
    "def sleep_func( i:int ):\n",
    "    time.sleep(3)\n",
    "    print(i)"
   ]
  },
  {
   "cell_type": "code",
   "execution_count": 14,
   "metadata": {},
   "outputs": [
    {
     "name": "stdout",
     "output_type": "stream",
     "text": [
      "4\n",
      "5\n",
      "6\n",
      "CPU times: user 423 ms, sys: 291 ms, total: 714 ms\n",
      "Wall time: 9 s\n"
     ]
    }
   ],
   "source": [
    "%%time\n",
    "sleep_func(4)\n",
    "sleep_func(5)\n",
    "sleep_func(6)"
   ]
  },
  {
   "cell_type": "code",
   "execution_count": 15,
   "metadata": {},
   "outputs": [],
   "source": [
    "@ray.remote\n",
    "def sleep_func_remote( i:int ):\n",
    "    time.sleep(3)\n",
    "    print(i)"
   ]
  },
  {
   "cell_type": "code",
   "execution_count": 17,
   "metadata": {},
   "outputs": [
    {
     "name": "stdout",
     "output_type": "stream",
     "text": [
      "CPU times: user 150 ms, sys: 113 ms, total: 263 ms\n",
      "Wall time: 3.03 s\n"
     ]
    },
    {
     "data": {
      "text/plain": [
       "[None, None, None]"
      ]
     },
     "execution_count": 17,
     "metadata": {},
     "output_type": "execute_result"
    },
    {
     "name": "stdout",
     "output_type": "stream",
     "text": [
      "\u001b[2m\u001b[36m(pid=66602)\u001b[0m 6\n",
      "\u001b[2m\u001b[36m(pid=66597)\u001b[0m 4\n",
      "\u001b[2m\u001b[36m(pid=66604)\u001b[0m 5\n"
     ]
    }
   ],
   "source": [
    "%%time\n",
    "ray.get([sleep_func_remote.remote(4),sleep_func_remote.remote(5),sleep_func_remote.remote(6)])"
   ]
  },
  {
   "cell_type": "code",
   "execution_count": 19,
   "metadata": {},
   "outputs": [],
   "source": [
    "from pexecute.process import ProcessLoom\n",
    "loom = ProcessLoom(max_runner_cap=3)"
   ]
  },
  {
   "cell_type": "code",
   "execution_count": 22,
   "metadata": {},
   "outputs": [
    {
     "name": "stdout",
     "output_type": "stream",
     "text": [
      "4\n",
      "5\n",
      "6\n",
      "CPU times: user 160 ms, sys: 125 ms, total: 286 ms\n",
      "Wall time: 3.15 s\n"
     ]
    },
    {
     "data": {
      "text/plain": [
       "{0: {'started_time': datetime.datetime(2020, 5, 9, 23, 4, 57, 453054),\n",
       "  'finished_time': datetime.datetime(2020, 5, 9, 23, 5, 0, 485521),\n",
       "  'execution_time': 3.032467,\n",
       "  'output': None,\n",
       "  'got_error': False,\n",
       "  'error': None},\n",
       " 1: {'started_time': datetime.datetime(2020, 5, 9, 23, 4, 57, 458837),\n",
       "  'finished_time': datetime.datetime(2020, 5, 9, 23, 5, 0, 494749),\n",
       "  'execution_time': 3.035912,\n",
       "  'output': None,\n",
       "  'got_error': False,\n",
       "  'error': None},\n",
       " 2: {'started_time': datetime.datetime(2020, 5, 9, 23, 4, 57, 466210),\n",
       "  'finished_time': datetime.datetime(2020, 5, 9, 23, 5, 0, 501566),\n",
       "  'execution_time': 3.035356,\n",
       "  'output': None,\n",
       "  'got_error': False,\n",
       "  'error': None}}"
      ]
     },
     "execution_count": 22,
     "metadata": {},
     "output_type": "execute_result"
    }
   ],
   "source": [
    "%%time\n",
    "loom.add_function(sleep_func,[4])\n",
    "loom.add_function(sleep_func,[5])\n",
    "loom.add_function(sleep_func,[6])\n",
    "loom.execute()"
   ]
  }
 ],
 "metadata": {
  "kernelspec": {
   "display_name": "Python 3",
   "language": "python",
   "name": "python3"
  },
  "language_info": {
   "codemirror_mode": {
    "name": "ipython",
    "version": 3
   },
   "file_extension": ".py",
   "mimetype": "text/x-python",
   "name": "python",
   "nbconvert_exporter": "python",
   "pygments_lexer": "ipython3",
   "version": "3.7.3"
  }
 },
 "nbformat": 4,
 "nbformat_minor": 2
}
